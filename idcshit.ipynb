{
  "nbformat": 4,
  "nbformat_minor": 0,
  "metadata": {
    "colab": {
      "provenance": []
    },
    "kernelspec": {
      "name": "python3",
      "display_name": "Python 3"
    },
    "language_info": {
      "name": "python"
    }
  },
  "cells": [
    {
      "cell_type": "code",
      "execution_count": null,
      "metadata": {
        "colab": {
          "base_uri": "https://localhost:8080/",
          "height": 130
        },
        "id": "RkNRWTYd7MMC",
        "outputId": "fc5bc918-a593-4388-eaa1-bdab62384454"
      },
      "outputs": [
        {
          "output_type": "error",
          "ename": "SyntaxError",
          "evalue": "ignored",
          "traceback": [
            "\u001b[0;36m  File \u001b[0;32m\"<ipython-input-36-7330e154da20>\"\u001b[0;36m, line \u001b[0;32m4\u001b[0m\n\u001b[0;31m    print(\"The fruit %d is tasteless\", % fruits[0])\u001b[0m\n\u001b[0m                                       ^\u001b[0m\n\u001b[0;31mSyntaxError\u001b[0m\u001b[0;31m:\u001b[0m invalid syntax\n"
          ]
        }
      ],
      "source": [
        "fruits = [\"apple\",\"oranges\",\"pineapple\"]\n",
        "print(fruits)\n",
        "fruits.append(\"tomato\")\n",
        "print(\"The fruit %d is tasteless\", % fruits[0])"
      ]
    },
    {
      "cell_type": "code",
      "source": [],
      "metadata": {
        "id": "C-sHQpXkKRB0"
      },
      "execution_count": null,
      "outputs": []
    },
    {
      "cell_type": "code",
      "source": [
        "Dict = { 1:'Geeks', 2:'For' , 3:'Geeks'}\n",
        "for key,value in Dict\n",
        "    if key==2: Dict[key]\n",
        "  \n",
        " \n"
      ],
      "metadata": {
        "colab": {
          "base_uri": "https://localhost:8080/",
          "height": 130
        },
        "id": "qfsOdgFs_axQ",
        "outputId": "9f00a01e-3868-4690-81bd-5f649401ac32"
      },
      "execution_count": null,
      "outputs": [
        {
          "output_type": "error",
          "ename": "SyntaxError",
          "evalue": "ignored",
          "traceback": [
            "\u001b[0;36m  File \u001b[0;32m\"<ipython-input-17-f28daa4fbb04>\"\u001b[0;36m, line \u001b[0;32m2\u001b[0m\n\u001b[0;31m    for key,value in Dict\u001b[0m\n\u001b[0m                         ^\u001b[0m\n\u001b[0;31mSyntaxError\u001b[0m\u001b[0;31m:\u001b[0m invalid syntax\n"
          ]
        }
      ]
    },
    {
      "cell_type": "code",
      "source": [
        "dict = { 1:\"HELLO\", 2:\"WORLD\"}\n",
        "for key,value in dict.items(): \n",
        "  if key==2:\n",
        "    print(value)"
      ],
      "metadata": {
        "colab": {
          "base_uri": "https://localhost:8080/"
        },
        "id": "7UiZ6qbXCIbE",
        "outputId": "387c324c-389e-40bf-be3e-c0f1d9553e63"
      },
      "execution_count": null,
      "outputs": [
        {
          "output_type": "stream",
          "name": "stdout",
          "text": [
            "WORLD\n"
          ]
        }
      ]
    },
    {
      "cell_type": "code",
      "source": [],
      "metadata": {
        "id": "OQ88nV4-GuHP"
      },
      "execution_count": null,
      "outputs": []
    },
    {
      "cell_type": "code",
      "source": [],
      "metadata": {
        "id": "9iBxwnOSGvE3"
      },
      "execution_count": null,
      "outputs": []
    },
    {
      "cell_type": "code",
      "source": [],
      "metadata": {
        "id": "V082UDUhGv1p"
      },
      "execution_count": null,
      "outputs": []
    },
    {
      "cell_type": "code",
      "source": [
        "dict = { 1:\"HELLO\", 2:\"WORLD\"}\n",
        "for k in Dict:\n",
        "  print(k)"
      ],
      "metadata": {
        "colab": {
          "base_uri": "https://localhost:8080/"
        },
        "id": "GGW47QOVDlZl",
        "outputId": "39f5433e-1253-4a3b-b17e-9937913cc3cc"
      },
      "execution_count": null,
      "outputs": [
        {
          "output_type": "stream",
          "name": "stdout",
          "text": [
            "1\n",
            "2\n",
            "3\n"
          ]
        }
      ]
    },
    {
      "cell_type": "code",
      "source": [
        "def fun():\n",
        "  print(\"Hello\")\n",
        "\n",
        "fun()"
      ],
      "metadata": {
        "colab": {
          "base_uri": "https://localhost:8080/"
        },
        "id": "SB13v10XDLKL",
        "outputId": "e69a5ae3-63b9-498c-f8d5-d244e96d0b84"
      },
      "execution_count": null,
      "outputs": [
        {
          "output_type": "stream",
          "name": "stdout",
          "text": [
            "Hello\n"
          ]
        }
      ]
    },
    {
      "cell_type": "code",
      "source": [
        "def evenOdd(x):\n",
        "    if(x%2==0):\n",
        "        print(\"even\")\n",
        "    else:   print(\"odd\")\n",
        "\n",
        "evenOdd(1678)\n",
        "evenOdd(20116781)"
      ],
      "metadata": {
        "colab": {
          "base_uri": "https://localhost:8080/"
        },
        "id": "3D5bcHTYGxSQ",
        "outputId": "8fe1f2b2-a6f6-4433-cc89-1a028b175d12"
      },
      "execution_count": null,
      "outputs": [
        {
          "output_type": "stream",
          "name": "stdout",
          "text": [
            "even\n",
            "odd\n"
          ]
        }
      ]
    },
    {
      "cell_type": "code",
      "source": [
        "class Animals:\n",
        "  name1= \"Dog\"\n",
        "  name2= \"Cat\"\n",
        "\n",
        "  def jungle(self):\n",
        "    print(\"The name1 is \", self.name1)\n",
        "    print(\"The name2 is\", self.name2)\n",
        "  def add(self): \n",
        "    printf(\"\")\n",
        "\n",
        "Instance = Animals()\n",
        "\n",
        "print(Instance.jungle())\n",
        "\n",
        "\n"
      ],
      "metadata": {
        "colab": {
          "base_uri": "https://localhost:8080/"
        },
        "id": "6Jn8tNoDKSZS",
        "outputId": "3c8a4c13-31c5-4f5e-bff6-1cf0f79c63b6"
      },
      "execution_count": null,
      "outputs": [
        {
          "output_type": "stream",
          "name": "stdout",
          "text": [
            "The name1 is  Dog\n",
            "The name2 is Cat\n",
            "None\n"
          ]
        }
      ]
    },
    {
      "cell_type": "code",
      "source": [
        "class Person:\n",
        "\n",
        "  def __init__(self,name):\n",
        "    self.name = name\n",
        "\n",
        "  def greet(self):\n",
        "    print(\"Hello, My name is\", self.name)\n",
        "\n",
        "  \n",
        "\n",
        "p = Person('Vichu')\n",
        "p.greet()"
      ],
      "metadata": {
        "colab": {
          "base_uri": "https://localhost:8080/"
        },
        "id": "CPvdUOu0RGdu",
        "outputId": "4cfd781b-5c5e-487e-cb73-7ca4ee08cf21"
      },
      "execution_count": null,
      "outputs": [
        {
          "output_type": "stream",
          "name": "stdout",
          "text": [
            "Hello, My name is Vichu\n"
          ]
        }
      ]
    },
    {
      "cell_type": "code",
      "source": [
        "sum = 0\n",
        "\n",
        "for i in range(1,10):\n",
        "  print(\"The current number is\",i, \"The Previous number is\",i-1,\"The sum is\",sum)\n",
        "  sum=sum+i"
      ],
      "metadata": {
        "colab": {
          "base_uri": "https://localhost:8080/"
        },
        "id": "gb6DUnJ9VHA-",
        "outputId": "3ef1b123-b185-4219-e655-3c71eada162c"
      },
      "execution_count": null,
      "outputs": [
        {
          "output_type": "stream",
          "name": "stdout",
          "text": [
            "The current number is 1 The Previous number is 0 The sum is 0\n",
            "The current number is 2 The Previous number is 1 The sum is 1\n",
            "The current number is 3 The Previous number is 2 The sum is 3\n",
            "The current number is 4 The Previous number is 3 The sum is 6\n",
            "The current number is 5 The Previous number is 4 The sum is 10\n",
            "The current number is 6 The Previous number is 5 The sum is 15\n",
            "The current number is 7 The Previous number is 6 The sum is 21\n",
            "The current number is 8 The Previous number is 7 The sum is 28\n",
            "The current number is 9 The Previous number is 8 The sum is 36\n"
          ]
        }
      ]
    },
    {
      "cell_type": "code",
      "source": [
        "sum=0\n",
        "for i in range(10,21,2): sum=sum+i \n",
        "print(sum)\n"
      ],
      "metadata": {
        "colab": {
          "base_uri": "https://localhost:8080/"
        },
        "id": "5R4VbqmcZhng",
        "outputId": "6a739fc0-1f28-44c2-f78e-489886066f90"
      },
      "execution_count": null,
      "outputs": [
        {
          "output_type": "stream",
          "name": "stdout",
          "text": [
            "90\n"
          ]
        }
      ]
    },
    {
      "cell_type": "code",
      "source": [],
      "metadata": {
        "id": "KIV0VD9ibmRF"
      },
      "execution_count": null,
      "outputs": []
    }
  ]
}